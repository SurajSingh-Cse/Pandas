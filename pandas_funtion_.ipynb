{
 "cells": [
  {
   "cell_type": "code",
   "execution_count": 1,
   "metadata": {},
   "outputs": [
    {
     "name": "stdout",
     "output_type": "stream",
     "text": [
      "       Name  Gender     Mobile    Id   Address  Nationality\n",
      "0     suraj    male     545454    11  srinagar       indian\n",
      "1     reeni  female     565656    22       dun     pakistan\n",
      "2    prachi  female      98995    33    mumbai    shrilanka\n",
      "3     komal  female      84845    44     bihar           uk\n",
      "4  ashirwad    male     124484    55     patna       landon\n",
      "5     raman    male  215456456    66  bangluru       africa\n",
      "6       ram    male    4548415    77   kolkata       canada\n",
      "7     rohit    male     848612    88   chennai  afganishtan\n",
      "8     megha  female     848481    99        up    newziland\n",
      "9    kavita  female   24848421  1010    gujrat   australiya\n"
     ]
    }
   ],
   "source": [
    "import pandas as pd # type: ignore\n",
    "\n",
    "df=pd.read_csv(\"Biodata.csv\")\n",
    "print(df)"
   ]
  },
  {
   "cell_type": "code",
   "execution_count": null,
   "metadata": {},
   "outputs": [
    {
     "data": {
      "text/plain": [
       "RangeIndex(start=0, stop=10, step=1)"
      ]
     },
     "execution_count": 4,
     "metadata": {},
     "output_type": "execute_result"
    }
   ],
   "source": [
    "df.index #you can get the index values"
   ]
  },
  {
   "cell_type": "code",
   "execution_count": null,
   "metadata": {},
   "outputs": [
    {
     "data": {
      "text/plain": [
       "Index(['Name', 'Gender', 'Mobile', 'Id', 'Address', 'Nationality'], dtype='object')"
      ]
     },
     "execution_count": 6,
     "metadata": {},
     "output_type": "execute_result"
    }
   ],
   "source": [
    "df.columns #you can get the column value"
   ]
  },
  {
   "cell_type": "code",
   "execution_count": null,
   "metadata": {},
   "outputs": [
    {
     "data": {
      "text/html": [
       "<div>\n",
       "<style scoped>\n",
       "    .dataframe tbody tr th:only-of-type {\n",
       "        vertical-align: middle;\n",
       "    }\n",
       "\n",
       "    .dataframe tbody tr th {\n",
       "        vertical-align: top;\n",
       "    }\n",
       "\n",
       "    .dataframe thead th {\n",
       "        text-align: right;\n",
       "    }\n",
       "</style>\n",
       "<table border=\"1\" class=\"dataframe\">\n",
       "  <thead>\n",
       "    <tr style=\"text-align: right;\">\n",
       "      <th></th>\n",
       "      <th>Mobile</th>\n",
       "      <th>Id</th>\n",
       "    </tr>\n",
       "  </thead>\n",
       "  <tbody>\n",
       "    <tr>\n",
       "      <th>count</th>\n",
       "      <td>1.000000e+01</td>\n",
       "      <td>10.000000</td>\n",
       "    </tr>\n",
       "    <tr>\n",
       "      <th>mean</th>\n",
       "      <td>2.479698e+07</td>\n",
       "      <td>150.500000</td>\n",
       "    </tr>\n",
       "    <tr>\n",
       "      <th>std</th>\n",
       "      <td>6.742305e+07</td>\n",
       "      <td>303.330128</td>\n",
       "    </tr>\n",
       "    <tr>\n",
       "      <th>min</th>\n",
       "      <td>8.484500e+04</td>\n",
       "      <td>11.000000</td>\n",
       "    </tr>\n",
       "    <tr>\n",
       "      <th>25%</th>\n",
       "      <td>2.297265e+05</td>\n",
       "      <td>35.750000</td>\n",
       "    </tr>\n",
       "    <tr>\n",
       "      <th>50%</th>\n",
       "      <td>7.070685e+05</td>\n",
       "      <td>60.500000</td>\n",
       "    </tr>\n",
       "    <tr>\n",
       "      <th>75%</th>\n",
       "      <td>3.623464e+06</td>\n",
       "      <td>85.250000</td>\n",
       "    </tr>\n",
       "    <tr>\n",
       "      <th>max</th>\n",
       "      <td>2.154565e+08</td>\n",
       "      <td>1010.000000</td>\n",
       "    </tr>\n",
       "  </tbody>\n",
       "</table>\n",
       "</div>"
      ],
      "text/plain": [
       "             Mobile           Id\n",
       "count  1.000000e+01    10.000000\n",
       "mean   2.479698e+07   150.500000\n",
       "std    6.742305e+07   303.330128\n",
       "min    8.484500e+04    11.000000\n",
       "25%    2.297265e+05    35.750000\n",
       "50%    7.070685e+05    60.500000\n",
       "75%    3.623464e+06    85.250000\n",
       "max    2.154565e+08  1010.000000"
      ]
     },
     "execution_count": 7,
     "metadata": {},
     "output_type": "execute_result"
    }
   ],
   "source": [
    "df.describe() # work only with neumerical  values   "
   ]
  },
  {
   "cell_type": "code",
   "execution_count": 8,
   "metadata": {},
   "outputs": [
    {
     "data": {
      "text/html": [
       "<div>\n",
       "<style scoped>\n",
       "    .dataframe tbody tr th:only-of-type {\n",
       "        vertical-align: middle;\n",
       "    }\n",
       "\n",
       "    .dataframe tbody tr th {\n",
       "        vertical-align: top;\n",
       "    }\n",
       "\n",
       "    .dataframe thead th {\n",
       "        text-align: right;\n",
       "    }\n",
       "</style>\n",
       "<table border=\"1\" class=\"dataframe\">\n",
       "  <thead>\n",
       "    <tr style=\"text-align: right;\">\n",
       "      <th></th>\n",
       "      <th>Name</th>\n",
       "      <th>Gender</th>\n",
       "      <th>Mobile</th>\n",
       "      <th>Id</th>\n",
       "      <th>Address</th>\n",
       "      <th>Nationality</th>\n",
       "    </tr>\n",
       "  </thead>\n",
       "  <tbody>\n",
       "    <tr>\n",
       "      <th>0</th>\n",
       "      <td>suraj</td>\n",
       "      <td>male</td>\n",
       "      <td>545454</td>\n",
       "      <td>11</td>\n",
       "      <td>srinagar</td>\n",
       "      <td>indian</td>\n",
       "    </tr>\n",
       "    <tr>\n",
       "      <th>1</th>\n",
       "      <td>reeni</td>\n",
       "      <td>female</td>\n",
       "      <td>565656</td>\n",
       "      <td>22</td>\n",
       "      <td>dun</td>\n",
       "      <td>pakistan</td>\n",
       "    </tr>\n",
       "  </tbody>\n",
       "</table>\n",
       "</div>"
      ],
      "text/plain": [
       "    Name  Gender  Mobile  Id   Address Nationality\n",
       "0  suraj    male  545454  11  srinagar      indian\n",
       "1  reeni  female  565656  22       dun    pakistan"
      ]
     },
     "execution_count": 8,
     "metadata": {},
     "output_type": "execute_result"
    }
   ],
   "source": [
    "df.head(2) #get 2 value from header"
   ]
  },
  {
   "cell_type": "code",
   "execution_count": 9,
   "metadata": {},
   "outputs": [
    {
     "data": {
      "text/html": [
       "<div>\n",
       "<style scoped>\n",
       "    .dataframe tbody tr th:only-of-type {\n",
       "        vertical-align: middle;\n",
       "    }\n",
       "\n",
       "    .dataframe tbody tr th {\n",
       "        vertical-align: top;\n",
       "    }\n",
       "\n",
       "    .dataframe thead th {\n",
       "        text-align: right;\n",
       "    }\n",
       "</style>\n",
       "<table border=\"1\" class=\"dataframe\">\n",
       "  <thead>\n",
       "    <tr style=\"text-align: right;\">\n",
       "      <th></th>\n",
       "      <th>Name</th>\n",
       "      <th>Gender</th>\n",
       "      <th>Mobile</th>\n",
       "      <th>Id</th>\n",
       "      <th>Address</th>\n",
       "      <th>Nationality</th>\n",
       "    </tr>\n",
       "  </thead>\n",
       "  <tbody>\n",
       "    <tr>\n",
       "      <th>8</th>\n",
       "      <td>megha</td>\n",
       "      <td>female</td>\n",
       "      <td>848481</td>\n",
       "      <td>99</td>\n",
       "      <td>up</td>\n",
       "      <td>newziland</td>\n",
       "    </tr>\n",
       "    <tr>\n",
       "      <th>9</th>\n",
       "      <td>kavita</td>\n",
       "      <td>female</td>\n",
       "      <td>24848421</td>\n",
       "      <td>1010</td>\n",
       "      <td>gujrat</td>\n",
       "      <td>australiya</td>\n",
       "    </tr>\n",
       "  </tbody>\n",
       "</table>\n",
       "</div>"
      ],
      "text/plain": [
       "     Name  Gender    Mobile    Id Address Nationality\n",
       "8   megha  female    848481    99      up   newziland\n",
       "9  kavita  female  24848421  1010  gujrat  australiya"
      ]
     },
     "execution_count": 9,
     "metadata": {},
     "output_type": "execute_result"
    }
   ],
   "source": [
    "df.tail(2) #get 2 values from tail"
   ]
  },
  {
   "cell_type": "code",
   "execution_count": null,
   "metadata": {},
   "outputs": [
    {
     "data": {
      "text/html": [
       "<div>\n",
       "<style scoped>\n",
       "    .dataframe tbody tr th:only-of-type {\n",
       "        vertical-align: middle;\n",
       "    }\n",
       "\n",
       "    .dataframe tbody tr th {\n",
       "        vertical-align: top;\n",
       "    }\n",
       "\n",
       "    .dataframe thead th {\n",
       "        text-align: right;\n",
       "    }\n",
       "</style>\n",
       "<table border=\"1\" class=\"dataframe\">\n",
       "  <thead>\n",
       "    <tr style=\"text-align: right;\">\n",
       "      <th></th>\n",
       "      <th>Name</th>\n",
       "      <th>Gender</th>\n",
       "      <th>Mobile</th>\n",
       "      <th>Id</th>\n",
       "      <th>Address</th>\n",
       "      <th>Nationality</th>\n",
       "    </tr>\n",
       "  </thead>\n",
       "  <tbody>\n",
       "    <tr>\n",
       "      <th>0</th>\n",
       "      <td>suraj</td>\n",
       "      <td>male</td>\n",
       "      <td>545454</td>\n",
       "      <td>11</td>\n",
       "      <td>srinagar</td>\n",
       "      <td>indian</td>\n",
       "    </tr>\n",
       "    <tr>\n",
       "      <th>1</th>\n",
       "      <td>reeni</td>\n",
       "      <td>female</td>\n",
       "      <td>565656</td>\n",
       "      <td>22</td>\n",
       "      <td>dun</td>\n",
       "      <td>pakistan</td>\n",
       "    </tr>\n",
       "    <tr>\n",
       "      <th>2</th>\n",
       "      <td>prachi</td>\n",
       "      <td>female</td>\n",
       "      <td>98995</td>\n",
       "      <td>33</td>\n",
       "      <td>mumbai</td>\n",
       "      <td>shrilanka</td>\n",
       "    </tr>\n",
       "  </tbody>\n",
       "</table>\n",
       "</div>"
      ],
      "text/plain": [
       "     Name  Gender  Mobile  Id   Address Nationality\n",
       "0   suraj    male  545454  11  srinagar      indian\n",
       "1   reeni  female  565656  22       dun    pakistan\n",
       "2  prachi  female   98995  33    mumbai   shrilanka"
      ]
     },
     "execution_count": 10,
     "metadata": {},
     "output_type": "execute_result"
    }
   ],
   "source": [
    "df[0:3] #slicing"
   ]
  },
  {
   "cell_type": "code",
   "execution_count": 11,
   "metadata": {},
   "outputs": [
    {
     "data": {
      "text/plain": [
       "<NumpyExtensionArray>\n",
       "[np.int64(0), np.int64(1), np.int64(2), np.int64(3), np.int64(4), np.int64(5),\n",
       " np.int64(6), np.int64(7), np.int64(8), np.int64(9)]\n",
       "Length: 10, dtype: int64"
      ]
     },
     "execution_count": 11,
     "metadata": {},
     "output_type": "execute_result"
    }
   ],
   "source": [
    "df.index.array"
   ]
  },
  {
   "cell_type": "code",
   "execution_count": 12,
   "metadata": {},
   "outputs": [
    {
     "data": {
      "text/html": [
       "<div>\n",
       "<style scoped>\n",
       "    .dataframe tbody tr th:only-of-type {\n",
       "        vertical-align: middle;\n",
       "    }\n",
       "\n",
       "    .dataframe tbody tr th {\n",
       "        vertical-align: top;\n",
       "    }\n",
       "\n",
       "    .dataframe thead th {\n",
       "        text-align: right;\n",
       "    }\n",
       "</style>\n",
       "<table border=\"1\" class=\"dataframe\">\n",
       "  <thead>\n",
       "    <tr style=\"text-align: right;\">\n",
       "      <th></th>\n",
       "      <th>Name</th>\n",
       "      <th>Mobile</th>\n",
       "      <th>Id</th>\n",
       "      <th>Address</th>\n",
       "      <th>Nationality</th>\n",
       "    </tr>\n",
       "  </thead>\n",
       "  <tbody>\n",
       "    <tr>\n",
       "      <th>0</th>\n",
       "      <td>suraj</td>\n",
       "      <td>545454</td>\n",
       "      <td>11</td>\n",
       "      <td>srinagar</td>\n",
       "      <td>indian</td>\n",
       "    </tr>\n",
       "    <tr>\n",
       "      <th>1</th>\n",
       "      <td>reeni</td>\n",
       "      <td>565656</td>\n",
       "      <td>22</td>\n",
       "      <td>dun</td>\n",
       "      <td>pakistan</td>\n",
       "    </tr>\n",
       "    <tr>\n",
       "      <th>2</th>\n",
       "      <td>prachi</td>\n",
       "      <td>98995</td>\n",
       "      <td>33</td>\n",
       "      <td>mumbai</td>\n",
       "      <td>shrilanka</td>\n",
       "    </tr>\n",
       "    <tr>\n",
       "      <th>3</th>\n",
       "      <td>komal</td>\n",
       "      <td>84845</td>\n",
       "      <td>44</td>\n",
       "      <td>bihar</td>\n",
       "      <td>uk</td>\n",
       "    </tr>\n",
       "    <tr>\n",
       "      <th>4</th>\n",
       "      <td>ashirwad</td>\n",
       "      <td>124484</td>\n",
       "      <td>55</td>\n",
       "      <td>patna</td>\n",
       "      <td>landon</td>\n",
       "    </tr>\n",
       "    <tr>\n",
       "      <th>5</th>\n",
       "      <td>raman</td>\n",
       "      <td>215456456</td>\n",
       "      <td>66</td>\n",
       "      <td>bangluru</td>\n",
       "      <td>africa</td>\n",
       "    </tr>\n",
       "    <tr>\n",
       "      <th>6</th>\n",
       "      <td>ram</td>\n",
       "      <td>4548415</td>\n",
       "      <td>77</td>\n",
       "      <td>kolkata</td>\n",
       "      <td>canada</td>\n",
       "    </tr>\n",
       "    <tr>\n",
       "      <th>7</th>\n",
       "      <td>rohit</td>\n",
       "      <td>848612</td>\n",
       "      <td>88</td>\n",
       "      <td>chennai</td>\n",
       "      <td>afganishtan</td>\n",
       "    </tr>\n",
       "    <tr>\n",
       "      <th>8</th>\n",
       "      <td>megha</td>\n",
       "      <td>848481</td>\n",
       "      <td>99</td>\n",
       "      <td>up</td>\n",
       "      <td>newziland</td>\n",
       "    </tr>\n",
       "    <tr>\n",
       "      <th>9</th>\n",
       "      <td>kavita</td>\n",
       "      <td>24848421</td>\n",
       "      <td>1010</td>\n",
       "      <td>gujrat</td>\n",
       "      <td>australiya</td>\n",
       "    </tr>\n",
       "  </tbody>\n",
       "</table>\n",
       "</div>"
      ],
      "text/plain": [
       "       Name     Mobile    Id   Address  Nationality\n",
       "0     suraj     545454    11  srinagar       indian\n",
       "1     reeni     565656    22       dun     pakistan\n",
       "2    prachi      98995    33    mumbai    shrilanka\n",
       "3     komal      84845    44     bihar           uk\n",
       "4  ashirwad     124484    55     patna       landon\n",
       "5     raman  215456456    66  bangluru       africa\n",
       "6       ram    4548415    77   kolkata       canada\n",
       "7     rohit     848612    88   chennai  afganishtan\n",
       "8     megha     848481    99        up    newziland\n",
       "9    kavita   24848421  1010    gujrat   australiya"
      ]
     },
     "execution_count": 12,
     "metadata": {},
     "output_type": "execute_result"
    }
   ],
   "source": [
    "df.drop(\"Gender\",axis=1)"
   ]
  }
 ],
 "metadata": {
  "kernelspec": {
   "display_name": "Python 3",
   "language": "python",
   "name": "python3"
  },
  "language_info": {
   "codemirror_mode": {
    "name": "ipython",
    "version": 3
   },
   "file_extension": ".py",
   "mimetype": "text/x-python",
   "name": "python",
   "nbconvert_exporter": "python",
   "pygments_lexer": "ipython3",
   "version": "3.11.5"
  }
 },
 "nbformat": 4,
 "nbformat_minor": 2
}
