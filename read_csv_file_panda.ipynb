{
 "cells": [
  {
   "cell_type": "code",
   "execution_count": 2,
   "metadata": {},
   "outputs": [
    {
     "name": "stdout",
     "output_type": "stream",
     "text": [
      "       Name  Gender     Mobile    Id   Address  Nationality\n",
      "0     suraj    male     545454    11  srinagar       indian\n",
      "1     reeni  female     565656    22       dun     pakistan\n",
      "2    prachi  female      98995    33    mumbai    shrilanka\n",
      "3     komal  female      84845    44     bihar           uk\n",
      "4  ashirwad    male     124484    55     patna       landon\n",
      "5     raman    male  215456456    66  bangluru       africa\n",
      "6       ram    male    4548415    77   kolkata       canada\n",
      "7     rohit    male     848612    88   chennai  afganishtan\n",
      "8     megha  female     848481    99        up    newziland\n",
      "9    kavita  female   24848421  1010    gujrat   australiya\n"
     ]
    }
   ],
   "source": [
    "import pandas as pd # type: ignore\n",
    "\n",
    "df=pd.read_csv(\"Biodata.csv\") #to read csv file\n",
    "print(df)"
   ]
  },
  {
   "cell_type": "code",
   "execution_count": null,
   "metadata": {},
   "outputs": [
    {
     "name": "stdout",
     "output_type": "stream",
     "text": [
      "   Unnamed: 0   Name  Gender  Mobile  Id   Address Nationality\n",
      "0           0  suraj    male  545454  11  srinagar      indian\n",
      "1           1  reeni  female  565656  22       dun    pakistan\n"
     ]
    }
   ],
   "source": [
    "df=pd.read_csv(\"Biodata.csv\",nrows=2) #read how much row you get\n",
    "print(df)"
   ]
  },
  {
   "cell_type": "code",
   "execution_count": null,
   "metadata": {},
   "outputs": [
    {
     "name": "stdout",
     "output_type": "stream",
     "text": [
      "       Name\n",
      "0     suraj\n",
      "1     reeni\n",
      "2    prachi\n",
      "3     komal\n",
      "4  ashirwad\n",
      "5     raman\n",
      "6       ram\n",
      "7     rohit\n",
      "8     megha\n",
      "9    kavita\n"
     ]
    }
   ],
   "source": [
    "df=pd.read_csv(\"Biodata.csv\",usecols=[\"Name\"]) #single colum get\n",
    "print(df)"
   ]
  },
  {
   "cell_type": "code",
   "execution_count": null,
   "metadata": {},
   "outputs": [
    {
     "name": "stdout",
     "output_type": "stream",
     "text": [
      "       Name     Mobile\n",
      "0     suraj     545454\n",
      "1     reeni     565656\n",
      "2    prachi      98995\n",
      "3     komal      84845\n",
      "4  ashirwad     124484\n",
      "5     raman  215456456\n",
      "6       ram    4548415\n",
      "7     rohit     848612\n",
      "8     megha     848481\n",
      "9    kavita   24848421\n"
     ]
    }
   ],
   "source": [
    "df=pd.read_csv(\"Biodata.csv\",usecols=[\"Name\",\"Mobile\"]) #multiple col get\n",
    "print(df)"
   ]
  },
  {
   "cell_type": "code",
   "execution_count": null,
   "metadata": {},
   "outputs": [
    {
     "name": "stdout",
     "output_type": "stream",
     "text": [
      "       Name  Gender     Mobile\n",
      "0     suraj    male     545454\n",
      "1     reeni  female     565656\n",
      "2    prachi  female      98995\n",
      "3     komal  female      84845\n",
      "4  ashirwad    male     124484\n",
      "5     raman    male  215456456\n",
      "6       ram    male    4548415\n",
      "7     rohit    male     848612\n",
      "8     megha  female     848481\n",
      "9    kavita  female   24848421\n"
     ]
    }
   ],
   "source": [
    "df=pd.read_csv(\"Biodata.csv\",usecols=[0,1,2]) #get multiple cols\n",
    "print(df)"
   ]
  },
  {
   "cell_type": "code",
   "execution_count": null,
   "metadata": {},
   "outputs": [
    {
     "name": "stdout",
     "output_type": "stream",
     "text": [
      "      suraj    male     545454    11  srinagar       indian\n",
      "0    prachi  female      98995    33    mumbai    shrilanka\n",
      "1     komal  female      84845    44     bihar           uk\n",
      "2  ashirwad    male     124484    55     patna       landon\n",
      "3     raman    male  215456456    66  bangluru       africa\n",
      "4       ram    male    4548415    77   kolkata       canada\n",
      "5     rohit    male     848612    88   chennai  afganishtan\n",
      "6     megha  female     848481    99        up    newziland\n",
      "7    kavita  female   24848421  1010    gujrat   australiya\n"
     ]
    }
   ],
   "source": [
    "df=pd.read_csv(\"Biodata.csv\" , skiprows=[1,2]) #skip rows\n",
    "print(df)"
   ]
  },
  {
   "cell_type": "code",
   "execution_count": 5,
   "metadata": {},
   "outputs": [
    {
     "name": "stdout",
     "output_type": "stream",
     "text": [
      "      reeni  female     565656    22       dun     pakistan\n",
      "0    prachi  female      98995    33    mumbai    shrilanka\n",
      "1     komal  female      84845    44     bihar           uk\n",
      "2  ashirwad    male     124484    55     patna       landon\n",
      "3     raman    male  215456456    66  bangluru       africa\n",
      "4       ram    male    4548415    77   kolkata       canada\n",
      "5     rohit    male     848612    88   chennai  afganishtan\n",
      "6     megha  female     848481    99        up    newziland\n",
      "7    kavita  female   24848421  1010    gujrat   australiya\n"
     ]
    }
   ],
   "source": [
    "df=pd.read_csv(\"Biodata.csv\", header=2) #change header\n",
    "print(df)"
   ]
  },
  {
   "cell_type": "code",
   "execution_count": null,
   "metadata": {},
   "outputs": [
    {
     "name": "stdout",
     "output_type": "stream",
     "text": [
      "       Name  Gender     Mobile      Id   Address  Nationality\n",
      "0     suraj    male     545454    11.0  srinagar       indian\n",
      "1     reeni  female     565656    22.0       dun     pakistan\n",
      "2    prachi  female      98995    33.0    mumbai    shrilanka\n",
      "3     komal  female      84845    44.0     bihar           uk\n",
      "4  ashirwad    male     124484    55.0     patna       landon\n",
      "5     raman    male  215456456    66.0  bangluru       africa\n",
      "6       ram    male    4548415    77.0   kolkata       canada\n",
      "7     rohit    male     848612    88.0   chennai  afganishtan\n",
      "8     megha  female     848481    99.0        up    newziland\n",
      "9    kavita  female   24848421  1010.0    gujrat   australiya\n"
     ]
    }
   ],
   "source": [
    "df=pd.read_csv(\"Biodata.csv\",dtype={\"Id\":\"float\"}) #change datatype\n",
    "print(df)"
   ]
  }
 ],
 "metadata": {
  "kernelspec": {
   "display_name": "Python 3",
   "language": "python",
   "name": "python3"
  },
  "language_info": {
   "codemirror_mode": {
    "name": "ipython",
    "version": 3
   },
   "file_extension": ".py",
   "mimetype": "text/x-python",
   "name": "python",
   "nbconvert_exporter": "python",
   "pygments_lexer": "ipython3",
   "version": "3.11.5"
  }
 },
 "nbformat": 4,
 "nbformat_minor": 2
}
